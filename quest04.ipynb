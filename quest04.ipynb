{
  "nbformat": 4,
  "nbformat_minor": 0,
  "metadata": {
    "colab": {
      "provenance": [],
      "authorship_tag": "ABX9TyNXZixMBvsQ9CvAQsT//1OK",
      "include_colab_link": true
    },
    "kernelspec": {
      "name": "python3",
      "display_name": "Python 3"
    },
    "language_info": {
      "name": "python"
    }
  },
  "cells": [
    {
      "cell_type": "markdown",
      "metadata": {
        "id": "view-in-github",
        "colab_type": "text"
      },
      "source": [
        "<a href=\"https://colab.research.google.com/github/shocoding/AIFFEL_quest/blob/main/quest04.ipynb\" target=\"_parent\"><img src=\"https://colab.research.google.com/assets/colab-badge.svg\" alt=\"Open In Colab\"/></a>"
      ]
    },
    {
      "cell_type": "code",
      "execution_count": 1,
      "metadata": {
        "id": "8pXPExf2hEyI",
        "colab": {
          "base_uri": "https://localhost:8080/"
        },
        "outputId": "fd79038e-3745-4aaf-eebf-4c2515ccc031"
      },
      "outputs": [
        {
          "output_type": "stream",
          "name": "stdout",
          "text": [
            "물고기의 이름을 입력하세요: 모리\n",
            "모리의 속도를 입력하세요 (m/s, 정수로 입력): 3\n",
            "또 다른 물고기의 이름을 입력하세요: 도리\n",
            "도리의 속도를 입력하세요 (m/s, 정수로 입력): 5\n",
            "Using Comprehension:\n",
            "모리 is swimming at 3 m/s\n",
            "도리 is swimming at 5 m/s\n",
            "\n",
            "\n",
            "Using Generator:\n",
            "모리 is swimming at 3 m/s\n",
            "도리 is swimming at 5 m/s\n"
          ]
        }
      ],
      "source": [
        "# 물고기 리스트 생성\n",
        "fish_list = []\n",
        "\n",
        "# 물고기 정보 입력\n",
        "fish_name = input(\"물고기의 이름을 입력하세요: \")\n",
        "fish_speed = int(input(f\"{fish_name}의 속도를 입력하세요 (m/s, 정수로 입력): \"))\n",
        "fish_list.append({\"이름\": fish_name, \"속도\": fish_speed})\n",
        "\n",
        "fish_name = input(\"또 다른 물고기의 이름을 입력하세요: \")\n",
        "fish_speed = int(input(f\"{fish_name}의 속도를 입력하세요 (m/s, 정수로 입력): \"))\n",
        "fish_list.append({\"이름\": fish_name, \"속도\": fish_speed})\n",
        "\n",
        "# 물고기 움직임 출력 함수 (컴프리헨션)\n",
        "def show_fish_movement_comprehension(fish_list):\n",
        "    print(\"Using Comprehension:\")\n",
        "    for fish in fish_list:\n",
        "        name = fish[\"이름\"]\n",
        "        speed = fish[\"속도\"]\n",
        "        print(f\"{name} is swimming at {speed} m/s\")\n",
        "\n",
        "# 물고기 움직임 출력 함수 (제너레이터)\n",
        "def show_fish_movement_generator(fish_list):\n",
        "    print(\"Using Generator:\")\n",
        "    for fish in fish_list:\n",
        "        yield f\"{fish['이름']} is swimming at {fish['속도']} m/s\"\n",
        "\n",
        "# 물고기 움직임 출력하기\n",
        "show_fish_movement_comprehension(fish_list)\n",
        "\n",
        "print(\"\\n\")  # 공백 줄 추가\n",
        "\n",
        "for movement in show_fish_movement_generator(fish_list):\n",
        "    print(movement)"
      ]
    }
  ]
}